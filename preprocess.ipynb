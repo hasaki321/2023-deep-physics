{
 "cells": [
  {
   "cell_type": "code",
   "execution_count": 1,
   "id": "cd3a2ea6",
   "metadata": {},
   "outputs": [],
   "source": [
    "import torch \n",
    "from torch.utils.data import DataLoader,Dataset\n",
    "import pandas as pd\n",
    "import numpy as np"
   ]
  },
  {
   "cell_type": "code",
   "execution_count": 2,
   "id": "b7a86cad",
   "metadata": {},
   "outputs": [],
   "source": [
    "class dataset(Dataset):\n",
    "    def __init__(self,data,Type,N_size):\n",
    "        super().__init__()\n",
    "        index = np.lexsort((data[:,2],))\n",
    "        data = data[index]\n",
    "        data = np.array(data)\n",
    "        if N_size == '<126':\n",
    "            data = data[np.where(data[:,2]<126)]\n",
    "        else:\n",
    "            data = data[np.where(data[:,2]>=126)]\n",
    "        \n",
    "        if Type == 'odd':\n",
    "            data = data[np.intersect1d(np.where(data[:,2]%2==1),np.where(data[:,1]%2==1) )]\n",
    "        elif Type == 'even':\n",
    "            data = data[np.intersect1d(np.where(data[:,2]%2==0),np.where(data[:,1]%2==0))]\n",
    "        else:\n",
    "            data = data[np.where((data[:,2]+data[:,1])%2==1)]\n",
    "        \n",
    "        \n",
    "        self.data = data[:,:5].astype(np.float32)\n",
    "        self.target = data[:,-4].astype(np.float32)\n",
    "        \n",
    "        \n",
    "    def __getitem__(self,idx):\n",
    "        return self.data[idx],self.target[idx]\n",
    "    \n",
    "    def __len__(self):\n",
    "        return len(self.data)\n",
    "    "
   ]
  },
  {
   "cell_type": "code",
   "execution_count": 3,
   "id": "373ea632",
   "metadata": {},
   "outputs": [],
   "source": [
    "def get_Kfold(file,k,shuffle=True):\n",
    "    data = pd.read_excel(file,engine=\"openpyxl\")\n",
    "    data = np.array(data)\n",
    "    if shuffle:\n",
    "        np.random.shuffle(data) \n",
    "    num = len(data)//k\n",
    "    return [(np.concatenate((data[0:num*i],data[num*(i+1):len(data)])),data[num*i:num*(i+1)]) for i in range(k)]"
   ]
  },
  {
   "cell_type": "code",
   "execution_count": 4,
   "id": "287db908",
   "metadata": {},
   "outputs": [],
   "source": [
    "file = './data/totaldata.xlsx'\n",
    "Type = 'odd'\n",
    "N_size = '<126'\n",
    "\n",
    "K_fold_data = get_Kfold(file,5)\n",
    "for trian_data,test_data in K_fold_data:\n",
    "    trian_data = dataset(trian_data,Type,N_size)\n",
    "    test_data = dataset(test_data,Type,N_size)\n",
    "    train_loader = DataLoader(dataset=trian_data,batch_size=32)\n",
    "    test_loader = DataLoader(dataset=test_data,batch_size=32)\n",
    "    "
   ]
  },
  {
   "cell_type": "code",
   "execution_count": null,
   "id": "ca63519d",
   "metadata": {},
   "outputs": [],
   "source": []
  }
 ],
 "metadata": {
  "kernelspec": {
   "display_name": "Python 3 (ipykernel)",
   "language": "python",
   "name": "python3"
  },
  "language_info": {
   "codemirror_mode": {
    "name": "ipython",
    "version": 3
   },
   "file_extension": ".py",
   "mimetype": "text/x-python",
   "name": "python",
   "nbconvert_exporter": "python",
   "pygments_lexer": "ipython3",
   "version": "3.9.17"
  }
 },
 "nbformat": 4,
 "nbformat_minor": 5
}
