{
 "cells": [
  {
   "cell_type": "code",
   "execution_count": 1,
   "id": "dd1e7eaa",
   "metadata": {},
   "outputs": [],
   "source": [
    "from preprocess import dataset,data_deal\n",
    "from sklearn.preprocessing import MinMaxScaler\n",
    "from models import *\n",
    "from torch.utils.data import DataLoader,Dataset\n",
    "from sklearn.model_selection import KFold\n",
    "import torch \n",
    "import torch.nn as nn\n",
    "import numpy as np\n",
    "import matplotlib.pyplot as plt\n",
    "from tqdm.auto import tqdm\n",
    "import json\n",
    "import random\n",
    "from TrainandTest import train_MLP,test_MLP\n",
    "import pandas as pd\n",
    "\n",
    "\n",
    "def same_seeds(seed):\n",
    "    random.seed(seed)\n",
    "    np.random.seed(seed)\n",
    "    torch.manual_seed(seed)\n",
    "    if torch.cuda.is_available():\n",
    "        torch.cuda.manual_seed(seed)\n",
    "        torch.cuda.manual_seed_all(seed)\n",
    "    torch.backends.cudnn.benchmark = False\n",
    "    torch.backends.cudnn.deterministic = True"
   ]
  },
  {
   "cell_type": "markdown",
   "id": "de7abae5",
   "metadata": {},
   "source": [
    "# Config"
   ]
  },
  {
   "cell_type": "code",
   "execution_count": 2,
   "id": "59e2b25d",
   "metadata": {},
   "outputs": [],
   "source": [
    "# device = 'cuda' if torch.cuda.is_available() else 'cpu'\n",
    "file = './data/total 12 data.xlsx'\n",
    "data = pd.read_excel(file,engine=\"openpyxl\")\n",
    "data = np.array(data)\n",
    "l = len(data)\n",
    "para_path = './save/parameter'\n",
    "batch_size = 300\n",
    "plot = True\n",
    "# np.set_printoptions(threshold=np.sys.maxsize)"
   ]
  },
  {
   "cell_type": "markdown",
   "id": "16bc2a21",
   "metadata": {},
   "source": [
    "# Train"
   ]
  },
  {
   "cell_type": "code",
   "execution_count": 3,
   "id": "517137c0",
   "metadata": {},
   "outputs": [],
   "source": [
    "def complexity(model):\n",
    "    param_squared_sums = {}\n",
    "    encoder_parameters = list(filter(lambda x: x[0].startswith('encoder'),list(model.named_parameters())))\n",
    "    for name, param in encoder_parameters:\n",
    "        if 'weight' in name:\n",
    "            param_squared_sums[name] = torch.sum(param ** 2)\n",
    "    return sum(param_squared_sums.values())"
   ]
  },
  {
   "cell_type": "code",
   "execution_count": 4,
   "id": "847a43eb",
   "metadata": {},
   "outputs": [],
   "source": [
    "total_loss = 0\n",
    "flag =  0\n",
    "Type = 'odd-even'\n",
    "N_size = '>126'\n",
    "lr = 0.1\n",
    "k = 10\n",
    "alpha = 0.1\n",
    "input_size = 9\n",
    "epsilon = 0\n",
    "seed1,seed2 = 0,0\n",
    "model_type = \"AE_MLP\""
   ]
  },
  {
   "cell_type": "code",
   "execution_count": 5,
   "id": "ab853b83",
   "metadata": {},
   "outputs": [],
   "source": [
    "kf = KFold(n_splits=k ,shuffle=True,random_state=seed1)\n",
    "\n",
    "total_data = dataset(data,Type,N_size,input_size)\n",
    "total_data = np.array(total_data,dtype = object)\n",
    "\n",
    "X = total_data[:,0]\n",
    "y = total_data[:,1].astype(np.float32)\n",
    "\n",
    "temp_loss = 0\n",
    "l1= X[0].shape[0]\n",
    "l2 =len(X)"
   ]
  },
  {
   "cell_type": "code",
   "execution_count": 6,
   "id": "f02555dc",
   "metadata": {},
   "outputs": [
    {
     "name": "stdout",
     "output_type": "stream",
     "text": [
      "ae init weight 10.39890193939209\n",
      "mlp init weight 10.623872756958008\n",
      "ae trained weight 73.72960662841797\n",
      "mlp trained weight 4074700.5\n",
      "\n",
      "ae init weight 11.666240692138672\n",
      "mlp init weight 10.896780014038086\n",
      "ae trained weight 4765137.0\n",
      "mlp trained weight 4780008.5\n",
      "\n",
      "ae init weight 10.529661178588867\n",
      "mlp init weight 10.16695785522461\n",
      "ae trained weight 4138342.0\n",
      "mlp trained weight 4005331.5\n",
      "\n",
      "ae init weight 10.702775955200195\n",
      "mlp init weight 10.800495147705078\n",
      "ae trained weight 78.60208129882812\n",
      "mlp trained weight 4234686.0\n",
      "\n",
      "ae init weight 10.705480575561523\n",
      "mlp init weight 10.063413619995117\n",
      "ae trained weight 5531850.0\n",
      "mlp trained weight 3807902.75\n",
      "\n",
      "ae init weight 10.924927711486816\n",
      "mlp init weight 10.128203392028809\n",
      "ae trained weight 68.7708740234375\n",
      "mlp trained weight 3806208.5\n",
      "\n",
      "ae init weight 10.107136726379395\n",
      "mlp init weight 11.63608455657959\n",
      "ae trained weight 5509278.0\n",
      "mlp trained weight 8156664.0\n",
      "\n",
      "ae init weight 10.79814624786377\n",
      "mlp init weight 10.576379776000977\n",
      "ae trained weight 3666062.0\n",
      "mlp trained weight 5985473.0\n",
      "\n",
      "ae init weight 10.16308879852295\n",
      "mlp init weight 10.811012268066406\n",
      "ae trained weight 73.99205017089844\n",
      "mlp trained weight 9165146.0\n",
      "\n",
      "ae init weight 10.51705265045166\n",
      "mlp init weight 10.934026718139648\n",
      "ae trained weight 5686483.5\n",
      "mlp trained weight 92.641357421875\n",
      "\n"
     ]
    }
   ],
   "source": [
    "for fold, (train_index, test_index) in enumerate(kf.split(X)):\n",
    "    X_train, X_test = X[train_index], X[test_index]\n",
    "    y_train, y_test = y[train_index], y[test_index]\n",
    "    ae_model = get_models(\"AE_MLP\",input_size,epsilon)\n",
    "    mlp_model = get_models(\"MLP\",input_size,epsilon)\n",
    "    print(f\"ae init weight {complexity(ae_model)}\")\n",
    "    print(f\"mlp init weight {complexity(mlp_model)}\")\n",
    "    scaler = MinMaxScaler()\n",
    "    X_train,X_test,y_train,y_test,scaler = data_deal(X_train,X_test,y_train,y_test,scaler,input_size,flag)\n",
    "    train_MLP(X_train,y_train,ae_model,lr,alpha,fold,para_path,flag)\n",
    "    train_MLP(X_train,y_train,mlp_model,lr,alpha,fold,para_path,flag)\n",
    "    print(f\"ae trained weight {complexity(ae_model)}\")\n",
    "    print(f\"mlp trained weight {complexity(mlp_model)}\\n\")"
   ]
  },
  {
   "cell_type": "code",
   "execution_count": null,
   "id": "fcbccd29",
   "metadata": {},
   "outputs": [],
   "source": []
  }
 ],
 "metadata": {
  "kernelspec": {
   "display_name": "Python 3 (ipykernel)",
   "language": "python",
   "name": "python3"
  },
  "language_info": {
   "codemirror_mode": {
    "name": "ipython",
    "version": 3
   },
   "file_extension": ".py",
   "mimetype": "text/x-python",
   "name": "python",
   "nbconvert_exporter": "python",
   "pygments_lexer": "ipython3",
   "version": "3.9.17"
  }
 },
 "nbformat": 4,
 "nbformat_minor": 5
}
