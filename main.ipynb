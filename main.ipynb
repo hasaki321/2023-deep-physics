{
 "cells": [
  {
   "cell_type": "code",
   "execution_count": 1,
   "id": "dd1e7eaa",
   "metadata": {},
   "outputs": [],
   "source": [
    "from preprocess import dataset,get_Kfold\n",
    "from models import MLP\n",
    "from torch import optim\n",
    "from torch.utils.data import DataLoader,Dataset\n",
    "import torch \n",
    "import torch.nn as nn\n",
    "import numpy as np\n",
    "import matplotlib.pyplot as plt\n",
    "from tqdm.auto import tqdm\n",
    "import json\n",
    "\n",
    "def same_seeds(seed):\n",
    "    random.seed(seed)\n",
    "    np.random.seed(seed)\n",
    "    torch.manual_seed(seed)\n",
    "    if torch.cuda.is_available():\n",
    "        torch.cuda.manual_seed(seed)\n",
    "        torch.cuda.manual_seed_all(seed)\n",
    "    torch.backends.cudnn.benchmark = False\n",
    "    torch.backends.cudnn.deterministic = True\n",
    "\n",
    "same_seeds(114514)"
   ]
  },
  {
   "cell_type": "code",
   "execution_count": 2,
   "id": "5366db30",
   "metadata": {},
   "outputs": [],
   "source": [
    "def get_models(model):\n",
    "    if model=='MLP':\n",
    "        return MLP(5,64)\n",
    "\n",
    "def train_epoch(train_loader,model,criterion,optimizer,device):\n",
    "    losses = []\n",
    "    for i, (inputs, labels) in enumerate(train_loader):\n",
    "        labels = labels.to(device)\n",
    "        inputs = inputs.to(device)\n",
    "        optimizer.zero_grad()\n",
    "        outputs = model(inputs)\n",
    "        loss = criterion(outputs, labels.unsqueeze(1))\n",
    "\n",
    "        loss.backward()\n",
    "        optimizer.step()\n",
    "    losses.append(loss.item())\n",
    "    return sum(losses)/len(losses)"
   ]
  },
  {
   "cell_type": "code",
   "execution_count": 3,
   "id": "a9ec5647",
   "metadata": {},
   "outputs": [
    {
     "data": {
      "application/vnd.jupyter.widget-view+json": {
       "model_id": "cbfdea5dc2f44b20ae9ccf1da8fc00ec",
       "version_major": 2,
       "version_minor": 0
      },
      "text/plain": [
       "  0%|          | 0/100 [00:00<?, ?it/s]"
      ]
     },
     "metadata": {},
     "output_type": "display_data"
    },
    {
     "data": {
      "application/vnd.jupyter.widget-view+json": {
       "model_id": "b33cea054c134d6d9b04d08a9fbd7d9f",
       "version_major": 2,
       "version_minor": 0
      },
      "text/plain": [
       "  0%|          | 0/100 [00:00<?, ?it/s]"
      ]
     },
     "metadata": {},
     "output_type": "display_data"
    },
    {
     "data": {
      "application/vnd.jupyter.widget-view+json": {
       "model_id": "69f8ff9b6010473db07dea8561977d98",
       "version_major": 2,
       "version_minor": 0
      },
      "text/plain": [
       "  0%|          | 0/100 [00:00<?, ?it/s]"
      ]
     },
     "metadata": {},
     "output_type": "display_data"
    },
    {
     "data": {
      "application/vnd.jupyter.widget-view+json": {
       "model_id": "c174b2861d3b4f18a9511ed0d6720876",
       "version_major": 2,
       "version_minor": 0
      },
      "text/plain": [
       "  0%|          | 0/100 [00:00<?, ?it/s]"
      ]
     },
     "metadata": {},
     "output_type": "display_data"
    },
    {
     "data": {
      "application/vnd.jupyter.widget-view+json": {
       "model_id": "5ec68041ad294c1b98bbb6b8edfea269",
       "version_major": 2,
       "version_minor": 0
      },
      "text/plain": [
       "  0%|          | 0/100 [00:00<?, ?it/s]"
      ]
     },
     "metadata": {},
     "output_type": "display_data"
    },
    {
     "data": {
      "application/vnd.jupyter.widget-view+json": {
       "model_id": "ba692c63de714f648e96c2c4c2bc215d",
       "version_major": 2,
       "version_minor": 0
      },
      "text/plain": [
       "  0%|          | 0/100 [00:00<?, ?it/s]"
      ]
     },
     "metadata": {},
     "output_type": "display_data"
    },
    {
     "data": {
      "application/vnd.jupyter.widget-view+json": {
       "model_id": "f78129336423462296f544c8a318aea2",
       "version_major": 2,
       "version_minor": 0
      },
      "text/plain": [
       "  0%|          | 0/100 [00:00<?, ?it/s]"
      ]
     },
     "metadata": {},
     "output_type": "display_data"
    },
    {
     "data": {
      "application/vnd.jupyter.widget-view+json": {
       "model_id": "3b286db8f4ee4493874d49ac1cafa607",
       "version_major": 2,
       "version_minor": 0
      },
      "text/plain": [
       "  0%|          | 0/100 [00:00<?, ?it/s]"
      ]
     },
     "metadata": {},
     "output_type": "display_data"
    },
    {
     "data": {
      "application/vnd.jupyter.widget-view+json": {
       "model_id": "4deef51648764688a798ea3b96920480",
       "version_major": 2,
       "version_minor": 0
      },
      "text/plain": [
       "  0%|          | 0/100 [00:00<?, ?it/s]"
      ]
     },
     "metadata": {},
     "output_type": "display_data"
    },
    {
     "data": {
      "application/vnd.jupyter.widget-view+json": {
       "model_id": "dbe74ce2949d4ed3a30ce707f02db95a",
       "version_major": 2,
       "version_minor": 0
      },
      "text/plain": [
       "  0%|          | 0/100 [00:00<?, ?it/s]"
      ]
     },
     "metadata": {},
     "output_type": "display_data"
    }
   ],
   "source": [
    "with open('config.json','r',encoding='utf-8')as f:\n",
    "    config_list = json.load(f)\n",
    "device = 'cuda' if torch.cuda.is_available() else 'cpu'\n",
    "file = './data/totaldata.xlsx'\n",
    "batch_size = 300\n",
    "\n",
    "for config in config_list:\n",
    "    Type = config['Type']\n",
    "    N_size = config['N_size']\n",
    "    num_epoch = config['num_epoch']\n",
    "    lr = config['lr']\n",
    "    k = config['k']\n",
    "    alpha,beta = config['alpha'],config['beta']\n",
    "    \n",
    "    K_fold_data = get_Kfold(file,k)\n",
    "    print(f\"-----------[ K:{k_step+1} Type:{Type} N_size:{N_size} ]-----------\")\n",
    "    for k_step,(trian_data,test_data) in enumerate(K_fold_data):\n",
    "        model = get_models(config['model']).to(device)\n",
    "        criterion = nn.MSELoss()\n",
    "        optimizer = optim.Adam(model.parameters(),lr=lr)\n",
    "        lr_scheduler = optim.lr_scheduler.LambdaLR(optimizer,lambda x: 1 - x/num_epoch,last_epoch=-1)\n",
    "        \n",
    "        trian_data = dataset(trian_data,Type,N_size)\n",
    "        test_data = dataset(test_data,Type,N_size)\n",
    "        train_loader = DataLoader(dataset=trian_data,batch_size=batch_size)\n",
    "        test_loader = DataLoader(dataset=test_data,batch_size=batch_size)\n",
    "        \n",
    "        bar = tqdm(range(num_epoch))\n",
    "        best = 100\n",
    "        bar.set_description(f\"[ K:{k_step+1} Type:{Type} N_size:{N_size} ]\")\n",
    "        for idx,epoch in enumerate(bar):\n",
    "            loss = train_epoch(train_loader,model,criterion,optimizer,device)\n",
    "            lr_scheduler.step()\n",
    "            bar.set_postfix({'loss':f'{loss:.5f}'})\n",
    "            \n",
    "    "
   ]
  },
  {
   "cell_type": "code",
   "execution_count": null,
   "id": "1fb4aa7c",
   "metadata": {},
   "outputs": [],
   "source": []
  },
  {
   "cell_type": "code",
   "execution_count": null,
   "id": "153dfa1e",
   "metadata": {},
   "outputs": [],
   "source": []
  }
 ],
 "metadata": {
  "kernelspec": {
   "display_name": "Python 3 (ipykernel)",
   "language": "python",
   "name": "python3"
  },
  "language_info": {
   "codemirror_mode": {
    "name": "ipython",
    "version": 3
   },
   "file_extension": ".py",
   "mimetype": "text/x-python",
   "name": "python",
   "nbconvert_exporter": "python",
   "pygments_lexer": "ipython3",
   "version": "3.9.17"
  }
 },
 "nbformat": 4,
 "nbformat_minor": 5
}
