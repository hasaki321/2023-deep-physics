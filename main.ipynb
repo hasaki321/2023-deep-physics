{
 "cells": [
  {
   "cell_type": "code",
   "execution_count": null,
   "id": "dd1e7eaa",
   "metadata": {},
   "outputs": [],
   "source": [
    "from preprocess import dataset,get_Kfold,get_scheduler\n",
    "from sklearn.preprocessing import MinMaxScaler,StandardScaler\n",
    "from models import FM_MLP,AE_MLP,get_models\n",
    "from torch import optim\n",
    "from torch.utils.data import DataLoader,Dataset\n",
    "import torch \n",
    "import torch.nn as nn\n",
    "import numpy as np\n",
    "import matplotlib.pyplot as plt\n",
    "from tqdm.auto import tqdm\n",
    "import json\n",
    "import random\n",
    "from TrainandTest import train_MLP,test_MLP\n",
    "import pandas as pd\n",
    "\n",
    "def same_seeds(seed):\n",
    "    random.seed(seed)\n",
    "    np.random.seed(seed)\n",
    "    torch.manual_seed(seed)\n",
    "    if torch.cuda.is_available():\n",
    "        torch.cuda.manual_seed(seed)\n",
    "        torch.cuda.manual_seed_all(seed)\n",
    "    torch.backends.cudnn.benchmark = False\n",
    "    torch.backends.cudnn.deterministic = True\n",
    "same_seeds(1)"
   ]
  },
  {
   "cell_type": "markdown",
   "id": "de7abae5",
   "metadata": {},
   "source": [
    "# Config"
   ]
  },
  {
   "cell_type": "code",
   "execution_count": null,
   "id": "59e2b25d",
   "metadata": {},
   "outputs": [],
   "source": [
    "device = 'cuda' if torch.cuda.is_available() else 'cpu'\n",
    "file = './data/useful totaldata.xlsx'\n",
    "data = pd.read_excel(file,engine=\"openpyxl\")\n",
    "data = np.array(data)\n",
    "para_path = './save/parameter'\n",
    "batch_size = 300\n",
    "flag = 0\n",
    "plot = True\n",
    "np.set_printoptions(threshold=np.sys.maxsize)"
   ]
  },
  {
   "cell_type": "markdown",
   "id": "16bc2a21",
   "metadata": {},
   "source": [
    "# Train"
   ]
  },
  {
   "cell_type": "code",
   "execution_count": null,
   "id": "a9ec5647",
   "metadata": {
    "scrolled": false
   },
   "outputs": [],
   "source": [
    "with open('config.json','r',encoding='utf-8')as f:\n",
    "    config_list = json.load(f)\n",
    "total_mse_list = []\n",
    "for config in config_list:\n",
    "    Type = config['Type']\n",
    "    N_size = config['N_size']\n",
    "    num_epoch = config['num_epoch']\n",
    "    lr = config['lr']\n",
    "    decay = config[\"decay\"]\n",
    "    k = config['k']\n",
    "    alpha = config['alpha']\n",
    "    input_size = config['input_size']\n",
    "    L1,L2 = config['L1'],config['L2']\n",
    "    \n",
    "    K_fold_data = get_Kfold(file,k)\n",
    "    for k_step,(trian_data,test_data) in enumerate(K_fold_data):\n",
    "        tqdm.write(f\"-----------[ Times:{flag+1} K:{k_step+1} Type:{Type} N_size:{N_size} ]-----------\")\n",
    "        model = get_models(config['model'],input_size,L1,L2).to(device)\n",
    "        criterion = nn.MSELoss()\n",
    "        optimizer = optim.Adam(model.parameters(),lr=lr,weight_decay=decay)\n",
    "        lr_scheduler = get_scheduler(optimizer,num_epoch,flag)\n",
    "        scaler = MinMaxScaler()\n",
    "        \n",
    "        #get data prepared\n",
    "        trian_data = dataset(trian_data,Type,N_size,input_size,scaler)\n",
    "        test_data = dataset(test_data,Type,N_size,input_size,scaler)\n",
    "        \n",
    "        train_loader = DataLoader(dataset=trian_data,batch_size=batch_size)\n",
    "        test_loader = DataLoader(dataset=test_data,batch_size=batch_size)\n",
    "        \n",
    "        #train\n",
    "        train_MLP(train_loader,\n",
    "                  model,\n",
    "                  criterion,\n",
    "                  alpha,\n",
    "                  optimizer,\n",
    "                  num_epoch,\n",
    "                  k_step,\n",
    "                  lr_scheduler,\n",
    "                  para_path,\n",
    "                  device,\n",
    "                  flag)\n",
    "        \n",
    "        #tese\n",
    "        sum_mse,rmse = test_MLP(test_loader,\n",
    "                             model,\n",
    "                             k_step,\n",
    "                             criterion,\n",
    "                             alpha,\n",
    " #                            plot,\n",
    "                             0,\n",
    "                             para_path,\n",
    "                             device,\n",
    "                             flag)\n",
    "        total_mse_list.append(sum_mse)\n",
    "    flag +=1\n",
    "    tqdm.write(f\"total rmse of k fold is: {rmse}\")\n",
    "\n",
    "total_rmse = (sum(total_mse_list)/len(data))**0.5\n",
    "print(f\"total rmse of all data is: {total_rmse}\")"
   ]
  },
  {
   "cell_type": "code",
   "execution_count": null,
   "id": "f02555dc",
   "metadata": {},
   "outputs": [],
   "source": []
  }
 ],
 "metadata": {
  "kernelspec": {
   "display_name": "Python 3 (ipykernel)",
   "language": "python",
   "name": "python3"
  },
  "language_info": {
   "codemirror_mode": {
    "name": "ipython",
    "version": 3
   },
   "file_extension": ".py",
   "mimetype": "text/x-python",
   "name": "python",
   "nbconvert_exporter": "python",
   "pygments_lexer": "ipython3",
   "version": "3.9.17"
  }
 },
 "nbformat": 4,
 "nbformat_minor": 5
}
