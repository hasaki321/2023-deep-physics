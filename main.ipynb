{
 "cells": [
  {
   "cell_type": "code",
   "execution_count": 1,
   "id": "dd1e7eaa",
   "metadata": {},
   "outputs": [],
   "source": [
    "from preprocess import dataset,get_Kfold\n",
    "from sklearn.preprocessing import MinMaxScaler,StandardScaler\n",
    "from models import FM_MLP,AE_MLP,get_models\n",
    "from torch import optim\n",
    "from torch.utils.data import DataLoader,Dataset\n",
    "import torch \n",
    "import torch.nn as nn\n",
    "import numpy as np\n",
    "import matplotlib.pyplot as plt\n",
    "from tqdm.auto import tqdm\n",
    "import json\n",
    "import random\n",
    "from TrainandTest import train_MLP,test_MLP\n",
    "import pandas as pd\n",
    "\n",
    "def same_seeds(seed):\n",
    "    random.seed(seed)\n",
    "    np.random.seed(seed)\n",
    "    torch.manual_seed(seed)\n",
    "    if torch.cuda.is_available():\n",
    "        torch.cuda.manual_seed(seed)\n",
    "        torch.cuda.manual_seed_all(seed)\n",
    "    torch.backends.cudnn.benchmark = False\n",
    "    torch.backends.cudnn.deterministic = True\n",
    "same_seeds(1)"
   ]
  },
  {
   "cell_type": "markdown",
   "id": "de7abae5",
   "metadata": {},
   "source": [
    "# Config"
   ]
  },
  {
   "cell_type": "code",
   "execution_count": 2,
   "id": "59e2b25d",
   "metadata": {},
   "outputs": [],
   "source": [
    "device = 'cuda' if torch.cuda.is_available() else 'cpu'\n",
    "file = './data/totaldata.xlsx'\n",
    "data = pd.read_excel(file,engine=\"openpyxl\")\n",
    "data = np.array(data)\n",
    "para_path = './save/parameter'\n",
    "batch_size = 300\n",
    "flag = 0\n",
    "plot = True\n",
    "scaler = StandardScaler()"
   ]
  },
  {
   "cell_type": "markdown",
   "id": "16bc2a21",
   "metadata": {},
   "source": [
    "# Train"
   ]
  },
  {
   "cell_type": "code",
   "execution_count": 3,
   "id": "a9ec5647",
   "metadata": {
    "scrolled": false
   },
   "outputs": [
    {
     "name": "stdout",
     "output_type": "stream",
     "text": [
      "-----------[ Times:1 K:1 Type:odd N_size:<126 ]-----------\n",
      "Test Loss: 0.07310, Test RMSE: 0.27038\n",
      "-----------[ Times:1 K:2 Type:odd N_size:<126 ]-----------\n",
      "Test Loss: 0.06460, Test RMSE: 0.25417\n",
      "-----------[ Times:1 K:3 Type:odd N_size:<126 ]-----------\n",
      "Test Loss: 0.01888, Test RMSE: 0.13740\n",
      "-----------[ Times:1 K:4 Type:odd N_size:<126 ]-----------\n",
      "Test Loss: 0.05853, Test RMSE: 0.24193\n",
      "-----------[ Times:1 K:5 Type:odd N_size:<126 ]-----------\n",
      "Test Loss: 0.02507, Test RMSE: 0.15832\n",
      "-----------[ Times:1 K:6 Type:odd N_size:<126 ]-----------\n",
      "Test Loss: 0.00961, Test RMSE: 0.09801\n",
      "-----------[ Times:1 K:7 Type:odd N_size:<126 ]-----------\n",
      "Test Loss: 0.02102, Test RMSE: 0.14497\n",
      "-----------[ Times:1 K:8 Type:odd N_size:<126 ]-----------\n",
      "Test Loss: 0.33542, Test RMSE: 0.57916\n",
      "-----------[ Times:1 K:9 Type:odd N_size:<126 ]-----------\n",
      "Test Loss: 0.14652, Test RMSE: 0.38278\n",
      "-----------[ Times:1 K:10 Type:odd N_size:<126 ]-----------\n",
      "Test Loss: 0.06055, Test RMSE: 0.24607\n",
      "total rmse of k fold is: 0.24606924843296932\n",
      "-----------[ Times:2 K:1 Type:odd N_size:  ]-----------\n"
     ]
    },
    {
     "ename": "RuntimeError",
     "evalue": "Error(s) in loading state_dict for FM_MLP:\n\tMissing key(s) in state_dict: \"fnn1.0.weight\", \"fnn1.0.bias\", \"fnn1.2.weight\", \"fnn1.2.bias\", \"fnn1.2.running_mean\", \"fnn1.2.running_var\", \"fnn1.3.weight\", \"fnn1.3.bias\". \n\tUnexpected key(s) in state_dict: \"encoder.0.weight\", \"encoder.0.bias\", \"encoder.2.weight\", \"encoder.2.bias\", \"encoder.2.running_mean\", \"encoder.2.running_var\", \"encoder.2.num_batches_tracked\", \"encoder.3.weight\", \"encoder.3.bias\", \"encoder.5.weight\", \"encoder.5.bias\", \"decoder.0.weight\", \"decoder.0.bias\", \"decoder.2.weight\", \"decoder.2.bias\", \"decoder.2.running_mean\", \"decoder.2.running_var\", \"decoder.2.num_batches_tracked\", \"decoder.3.weight\", \"decoder.3.bias\", \"decoder.5.weight\", \"decoder.5.bias\", \"predicter.0.weight\", \"predicter.0.bias\", \"predicter.2.weight\", \"predicter.2.bias\", \"predicter.2.running_mean\", \"predicter.2.running_var\", \"predicter.2.num_batches_tracked\", \"predicter.3.weight\", \"predicter.3.bias\", \"predicter.5.weight\", \"predicter.5.bias\", \"predicter.5.running_mean\", \"predicter.5.running_var\", \"predicter.5.num_batches_tracked\", \"predicter.6.weight\", \"predicter.6.bias\". ",
     "output_type": "error",
     "traceback": [
      "\u001b[1;31m---------------------------------------------------------------------------\u001b[0m",
      "\u001b[1;31mRuntimeError\u001b[0m                              Traceback (most recent call last)",
      "Cell \u001b[1;32mIn[3], line 45\u001b[0m\n\u001b[0;32m     32\u001b[0m        train_MLP(train_loader,\n\u001b[0;32m     33\u001b[0m                  model,\n\u001b[0;32m     34\u001b[0m                  criterion,\n\u001b[1;32m   (...)\u001b[0m\n\u001b[0;32m     41\u001b[0m                  device,\n\u001b[0;32m     42\u001b[0m                  flag)\n\u001b[0;32m     44\u001b[0m        \u001b[38;5;66;03m#tese\u001b[39;00m\n\u001b[1;32m---> 45\u001b[0m        mse,rmse \u001b[38;5;241m=\u001b[39m \u001b[43mtest_MLP\u001b[49m\u001b[43m(\u001b[49m\u001b[43mtest_loader\u001b[49m\u001b[43m,\u001b[49m\n\u001b[0;32m     46\u001b[0m \u001b[43m                            \u001b[49m\u001b[43mmodel\u001b[49m\u001b[43m,\u001b[49m\n\u001b[0;32m     47\u001b[0m \u001b[43m                            \u001b[49m\u001b[43mk_step\u001b[49m\u001b[43m,\u001b[49m\n\u001b[0;32m     48\u001b[0m \u001b[43m                            \u001b[49m\u001b[43mcriterion\u001b[49m\u001b[43m,\u001b[49m\n\u001b[0;32m     49\u001b[0m \u001b[43m                            \u001b[49m\u001b[43malpha\u001b[49m\u001b[43m,\u001b[49m\n\u001b[0;32m     50\u001b[0m \u001b[43m\u001b[49m\u001b[38;5;66;43;03m#                            plot,\u001b[39;49;00m\n\u001b[0;32m     51\u001b[0m \u001b[43m                            \u001b[49m\u001b[38;5;241;43m0\u001b[39;49m\u001b[43m,\u001b[49m\n\u001b[0;32m     52\u001b[0m \u001b[43m                            \u001b[49m\u001b[43mpara_path\u001b[49m\u001b[43m,\u001b[49m\n\u001b[0;32m     53\u001b[0m \u001b[43m                            \u001b[49m\u001b[43mdevice\u001b[49m\u001b[43m,\u001b[49m\n\u001b[0;32m     54\u001b[0m \u001b[43m                            \u001b[49m\u001b[43mflag\u001b[49m\u001b[43m)\u001b[49m\n\u001b[0;32m     55\u001b[0m        total_mse_list\u001b[38;5;241m.\u001b[39mappend(mse)\n\u001b[0;32m     56\u001b[0m    flag \u001b[38;5;241m+\u001b[39m\u001b[38;5;241m=\u001b[39m\u001b[38;5;241m1\u001b[39m\n",
      "File \u001b[1;32mD:\\校创python\\2023-deep-physics--9-16\\2023-deep-physics--9-16 烧\\2023-deep-physics--9-16 烧\\2023-deep-physics--\\TrainandTest.py:44\u001b[0m, in \u001b[0;36mtest_MLP\u001b[1;34m(test_loader, model, fold, criterion, alpha, plot, para_path, device, flag)\u001b[0m\n\u001b[0;32m     43\u001b[0m \u001b[38;5;28;01mdef\u001b[39;00m \u001b[38;5;21mtest_MLP\u001b[39m(test_loader,model,fold,criterion,alpha,plot,para_path,device,flag):\n\u001b[1;32m---> 44\u001b[0m     \u001b[43mmodel\u001b[49m\u001b[38;5;241;43m.\u001b[39;49m\u001b[43mload_state_dict\u001b[49m\u001b[43m(\u001b[49m\u001b[43mtorch\u001b[49m\u001b[38;5;241;43m.\u001b[39;49m\u001b[43mload\u001b[49m\u001b[43m(\u001b[49m\u001b[38;5;124;43mf\u001b[39;49m\u001b[38;5;124;43m'\u001b[39;49m\u001b[38;5;132;43;01m{\u001b[39;49;00m\u001b[43mpara_path\u001b[49m\u001b[38;5;132;43;01m}\u001b[39;49;00m\u001b[38;5;124;43m/model_fold_\u001b[39;49m\u001b[38;5;132;43;01m{\u001b[39;49;00m\u001b[43mfold\u001b[49m\u001b[38;5;250;43m \u001b[39;49m\u001b[38;5;241;43m+\u001b[39;49m\u001b[38;5;250;43m \u001b[39;49m\u001b[38;5;241;43m1\u001b[39;49m\u001b[38;5;132;43;01m}\u001b[39;49;00m\u001b[38;5;124;43m.ckpt\u001b[39;49m\u001b[38;5;124;43m'\u001b[39;49m\u001b[43m)\u001b[49m\u001b[43m)\u001b[49m\n\u001b[0;32m     45\u001b[0m     model\u001b[38;5;241m.\u001b[39meval()\n\u001b[0;32m     46\u001b[0m     test_mses,test_losses,test_output,test \u001b[38;5;241m=\u001b[39m [],[],[],[]\n",
      "File \u001b[1;32mC:\\ProgramData\\anaconda3\\envs\\py3.9\\lib\\site-packages\\torch\\nn\\modules\\module.py:1667\u001b[0m, in \u001b[0;36mModule.load_state_dict\u001b[1;34m(self, state_dict, strict)\u001b[0m\n\u001b[0;32m   1662\u001b[0m         error_msgs\u001b[38;5;241m.\u001b[39minsert(\n\u001b[0;32m   1663\u001b[0m             \u001b[38;5;241m0\u001b[39m, \u001b[38;5;124m'\u001b[39m\u001b[38;5;124mMissing key(s) in state_dict: \u001b[39m\u001b[38;5;132;01m{}\u001b[39;00m\u001b[38;5;124m. \u001b[39m\u001b[38;5;124m'\u001b[39m\u001b[38;5;241m.\u001b[39mformat(\n\u001b[0;32m   1664\u001b[0m                 \u001b[38;5;124m'\u001b[39m\u001b[38;5;124m, \u001b[39m\u001b[38;5;124m'\u001b[39m\u001b[38;5;241m.\u001b[39mjoin(\u001b[38;5;124m'\u001b[39m\u001b[38;5;124m\"\u001b[39m\u001b[38;5;132;01m{}\u001b[39;00m\u001b[38;5;124m\"\u001b[39m\u001b[38;5;124m'\u001b[39m\u001b[38;5;241m.\u001b[39mformat(k) \u001b[38;5;28;01mfor\u001b[39;00m k \u001b[38;5;129;01min\u001b[39;00m missing_keys)))\n\u001b[0;32m   1666\u001b[0m \u001b[38;5;28;01mif\u001b[39;00m \u001b[38;5;28mlen\u001b[39m(error_msgs) \u001b[38;5;241m>\u001b[39m \u001b[38;5;241m0\u001b[39m:\n\u001b[1;32m-> 1667\u001b[0m     \u001b[38;5;28;01mraise\u001b[39;00m \u001b[38;5;167;01mRuntimeError\u001b[39;00m(\u001b[38;5;124m'\u001b[39m\u001b[38;5;124mError(s) in loading state_dict for \u001b[39m\u001b[38;5;132;01m{}\u001b[39;00m\u001b[38;5;124m:\u001b[39m\u001b[38;5;130;01m\\n\u001b[39;00m\u001b[38;5;130;01m\\t\u001b[39;00m\u001b[38;5;132;01m{}\u001b[39;00m\u001b[38;5;124m'\u001b[39m\u001b[38;5;241m.\u001b[39mformat(\n\u001b[0;32m   1668\u001b[0m                        \u001b[38;5;28mself\u001b[39m\u001b[38;5;241m.\u001b[39m\u001b[38;5;18m__class__\u001b[39m\u001b[38;5;241m.\u001b[39m\u001b[38;5;18m__name__\u001b[39m, \u001b[38;5;124m\"\u001b[39m\u001b[38;5;130;01m\\n\u001b[39;00m\u001b[38;5;130;01m\\t\u001b[39;00m\u001b[38;5;124m\"\u001b[39m\u001b[38;5;241m.\u001b[39mjoin(error_msgs)))\n\u001b[0;32m   1669\u001b[0m \u001b[38;5;28;01mreturn\u001b[39;00m _IncompatibleKeys(missing_keys, unexpected_keys)\n",
      "\u001b[1;31mRuntimeError\u001b[0m: Error(s) in loading state_dict for FM_MLP:\n\tMissing key(s) in state_dict: \"fnn1.0.weight\", \"fnn1.0.bias\", \"fnn1.2.weight\", \"fnn1.2.bias\", \"fnn1.2.running_mean\", \"fnn1.2.running_var\", \"fnn1.3.weight\", \"fnn1.3.bias\". \n\tUnexpected key(s) in state_dict: \"encoder.0.weight\", \"encoder.0.bias\", \"encoder.2.weight\", \"encoder.2.bias\", \"encoder.2.running_mean\", \"encoder.2.running_var\", \"encoder.2.num_batches_tracked\", \"encoder.3.weight\", \"encoder.3.bias\", \"encoder.5.weight\", \"encoder.5.bias\", \"decoder.0.weight\", \"decoder.0.bias\", \"decoder.2.weight\", \"decoder.2.bias\", \"decoder.2.running_mean\", \"decoder.2.running_var\", \"decoder.2.num_batches_tracked\", \"decoder.3.weight\", \"decoder.3.bias\", \"decoder.5.weight\", \"decoder.5.bias\", \"predicter.0.weight\", \"predicter.0.bias\", \"predicter.2.weight\", \"predicter.2.bias\", \"predicter.2.running_mean\", \"predicter.2.running_var\", \"predicter.2.num_batches_tracked\", \"predicter.3.weight\", \"predicter.3.bias\", \"predicter.5.weight\", \"predicter.5.bias\", \"predicter.5.running_mean\", \"predicter.5.running_var\", \"predicter.5.num_batches_tracked\", \"predicter.6.weight\", \"predicter.6.bias\". "
     ]
    }
   ],
   "source": [
    "with open('config.json','r',encoding='utf-8')as f:\n",
    "    config_list = json.load(f)\n",
    "total_mse_list = []\n",
    "for config in config_list:\n",
    "    Type = config['Type']\n",
    "    N_size = config['N_size']\n",
    "    num_epoch = config['num_epoch']\n",
    "    lr = config['lr']\n",
    "    decay = config[\"decay\"]\n",
    "    k = config['k']\n",
    "    alpha = config['alpha']\n",
    "    input_size = config['input_size']\n",
    "    L1,L2 = config['L1'],config['L2']\n",
    "    \n",
    "    K_fold_data = get_Kfold(file,k)\n",
    "    \n",
    "    for k_step,(trian_data,test_data) in enumerate(K_fold_data):\n",
    "        tqdm.write(f\"-----------[ Times:{flag+1} K:{k_step+1} Type:{Type} N_size:{N_size} ]-----------\")\n",
    "        \n",
    "        model = get_models(config['model'],input_size,L1,L2).to(device)\n",
    "        criterion = nn.MSELoss()\n",
    "        optimizer = optim.Adam(model.parameters(),lr=lr,weight_decay=decay)\n",
    "        lr_scheduler = optim.lr_scheduler.LambdaLR(optimizer,lambda x: 1 - x/num_epoch,last_epoch=-1)\n",
    "        \n",
    "        #get data prepared\n",
    "        trian_data = dataset(trian_data,Type,N_size,input_size,scaler)\n",
    "        test_data = dataset(test_data,Type,N_size,input_size,scaler)\n",
    "        train_loader = DataLoader(dataset=trian_data,batch_size=batch_size)\n",
    "        test_loader = DataLoader(dataset=test_data,batch_size=batch_size)\n",
    "        \n",
    "        #train\n",
    "        train_MLP(train_loader,\n",
    "                  model,\n",
    "                  criterion,\n",
    "                  alpha,\n",
    "                  optimizer,\n",
    "                  num_epoch,\n",
    "                  k_step,\n",
    "                  lr_scheduler,\n",
    "                  para_path,\n",
    "                  device,\n",
    "                  flag)\n",
    "        \n",
    "        #tese\n",
    "        mse,rmse = test_MLP(test_loader,\n",
    "                             model,\n",
    "                             k_step,\n",
    "                             criterion,\n",
    "                             alpha,\n",
    " #                            plot,\n",
    "                             0,\n",
    "                             para_path,\n",
    "                             device,\n",
    "                             flag)\n",
    "        total_mse_list.append(mse)\n",
    "    flag +=1\n",
    "    tqdm.write(f\"total rmse of k fold is: {rmse}\")\n",
    "\n",
    "total_rmse = (sum(total_mse_list)/len(data))**0.5\n",
    "print(f\"total rmse of all data is: {total_rmse}\")"
   ]
  },
  {
   "cell_type": "code",
   "execution_count": null,
   "id": "f02555dc",
   "metadata": {},
   "outputs": [],
   "source": []
  }
 ],
 "metadata": {
  "kernelspec": {
   "display_name": "Python 3 (ipykernel)",
   "language": "python",
   "name": "python3"
  },
  "language_info": {
   "codemirror_mode": {
    "name": "ipython",
    "version": 3
   },
   "file_extension": ".py",
   "mimetype": "text/x-python",
   "name": "python",
   "nbconvert_exporter": "python",
   "pygments_lexer": "ipython3",
   "version": "3.9.17"
  }
 },
 "nbformat": 4,
 "nbformat_minor": 5
}
