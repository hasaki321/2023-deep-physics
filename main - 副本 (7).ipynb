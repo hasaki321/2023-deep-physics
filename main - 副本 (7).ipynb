{
 "cells": [
  {
   "cell_type": "code",
   "execution_count": 28,
   "id": "dd1e7eaa",
   "metadata": {},
   "outputs": [],
   "source": [
    "from preprocess import dataset,data_deal\n",
    "from sklearn.preprocessing import MinMaxScaler\n",
    "from models import AE_MLP,get_models\n",
    "from torch.utils.data import DataLoader,Dataset\n",
    "from sklearn.model_selection import KFold\n",
    "import torch \n",
    "import torch.nn as nn\n",
    "import numpy as np\n",
    "import matplotlib.pyplot as plt\n",
    "from tqdm.auto import tqdm\n",
    "import json\n",
    "import random\n",
    "from TrainandTest import train_MLP,test_MLP\n",
    "import pandas as pd\n",
    "\n",
    "\n",
    "def same_seeds(seed):\n",
    "    random.seed(seed)\n",
    "    np.random.seed(seed)\n",
    "    torch.manual_seed(seed)\n",
    "    if torch.cuda.is_available():\n",
    "        torch.cuda.manual_seed(seed)\n",
    "        torch.cuda.manual_seed_all(seed)\n",
    "    torch.backends.cudnn.benchmark = False\n",
    "    torch.backends.cudnn.deterministic = True"
   ]
  },
  {
   "cell_type": "markdown",
   "id": "de7abae5",
   "metadata": {},
   "source": [
    "# Config"
   ]
  },
  {
   "cell_type": "code",
   "execution_count": 29,
   "id": "59e2b25d",
   "metadata": {},
   "outputs": [],
   "source": [
    "# device = 'cuda' if torch.cuda.is_available() else 'cpu'\n",
    "file = './data/total 12 data.xlsx'\n",
    "data = pd.read_excel(file,engine=\"openpyxl\")\n",
    "data = np.array(data)\n",
    "l = len(data)\n",
    "para_path = './save/parameter'\n",
    "batch_size = 300\n",
    "plot = True\n",
    "np.set_printoptions(threshold=np.sys.maxsize)\n",
    "times = 0\n",
    "best_seed1= best_seed2=0\n",
    "best_rmse = rmse = 5"
   ]
  },
  {
   "cell_type": "markdown",
   "id": "16bc2a21",
   "metadata": {},
   "source": [
    "# Train"
   ]
  },
  {
   "cell_type": "code",
   "execution_count": null,
   "id": "a9ec5647",
   "metadata": {
    "scrolled": false
   },
   "outputs": [
    {
     "name": "stdout",
     "output_type": "stream",
     "text": [
      "Times:1,RMSE:0.1805288494,seed1:3954036275,seed2:2236292402,0.18052884936332703,3954036275,2236292402\n",
      "Times:2,RMSE:0.1805288494,seed1:3954036275,seed2:2236292402,0.18052884936332703,3954036275,2236292402\n",
      "Times:3,RMSE:0.1805288494,seed1:3954036275,seed2:2236292402,0.18052884936332703,3954036275,2236292402\n"
     ]
    }
   ],
   "source": [
    "with open('config.json','r',encoding='utf-8')as f:\n",
    "    config_list = json.load(f)\n",
    "flag =  0\n",
    "config = config_list[0]\n",
    "Type = config['Type']\n",
    "N_size = config['N_size']\n",
    "lr = config['lr']\n",
    "k = config['k']\n",
    "alpha = config['alpha']\n",
    "input_size = config['input_size']\n",
    "epsilon = config['epsilon']\n",
    "seed1,seed2 = config['seed1'],config['seed2']\n",
    "while rmse >=0.1574:\n",
    "    rmse = 0\n",
    "    total_loss = 0\n",
    "\n",
    "    seed1 = random.randint(0, 4294967295)\n",
    "    seed2 = random.randint(0, 4294967295)\n",
    "    \n",
    "    seed1 = 3954036275\n",
    "    seed2 = 2236292402\n",
    "\n",
    "    kf = KFold(n_splits=k ,shuffle=True,random_state=seed1)\n",
    "    same_seeds(seed2)\n",
    "    total_data = dataset(data,Type,N_size,input_size)\n",
    "    total_data = np.array(total_data,dtype = object)\n",
    "\n",
    "    X = total_data[:,0]\n",
    "    y = total_data[:,1].astype(np.float32)\n",
    "\n",
    "    temp_loss = 0\n",
    "    l1= X[0].shape[0]\n",
    "    l2 =len(X)\n",
    "    results_df = pd.DataFrame()\n",
    "    for fold, (train_index, test_index) in enumerate(kf.split(X)):\n",
    "        same_seeds(seed2)\n",
    "        X_train, X_test = X[train_index], X[test_index]\n",
    "        y_train, y_test = y[train_index], y[test_index]\n",
    "\n",
    "        model = get_models(config['model'],input_size,epsilon)\n",
    "        scaler = MinMaxScaler()\n",
    "        X_train,X_test,y_train,y_test,scaler = data_deal(X_train,X_test,y_train,y_test,scaler,input_size,flag)\n",
    "        train_MLP(X_train,y_train,model,lr,alpha,fold,para_path,flag)\n",
    "        same_seeds(seed2)\n",
    "        loss,results_df = test_MLP(X_test,y_test,model,fold,para_path,scaler,results_df,l1,flag)\n",
    "        total_loss += loss\n",
    "        temp_loss += loss\n",
    "\n",
    "    rmse = (temp_loss/l2)**0.5\n",
    "    rmse = float(rmse)\n",
    "    times += 1\n",
    "    \n",
    "    if best_rmse>=rmse:\n",
    "        best_rmse=rmse\n",
    "        best_seed1=seed1\n",
    "        best_seed2=seed2\n",
    "        \n",
    "    print(f'Times:{times},RMSE:{rmse:.10f},seed1:{seed1},seed2:{seed2},{best_rmse},{best_seed1},{best_seed2}')\n"
   ]
  },
  {
   "cell_type": "code",
   "execution_count": null,
   "id": "f02555dc",
   "metadata": {},
   "outputs": [],
   "source": []
  }
 ],
 "metadata": {
  "kernelspec": {
   "display_name": "Python 3 (ipykernel)",
   "language": "python",
   "name": "python3"
  },
  "language_info": {
   "codemirror_mode": {
    "name": "ipython",
    "version": 3
   },
   "file_extension": ".py",
   "mimetype": "text/x-python",
   "name": "python",
   "nbconvert_exporter": "python",
   "pygments_lexer": "ipython3",
   "version": "3.9.17"
  }
 },
 "nbformat": 4,
 "nbformat_minor": 5
}
